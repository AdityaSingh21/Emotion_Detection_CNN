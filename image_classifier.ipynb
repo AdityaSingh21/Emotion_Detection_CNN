{
 "cells": [
  {
   "cell_type": "code",
   "execution_count": null,
   "metadata": {},
   "outputs": [],
   "source": [
    "from keras.models import load_model\n",
    "from time import sleep\n",
    "from keras.preprocessing.image import img_to_array\n",
    "from keras.preprocessing import image\n",
    "import cv2\n",
    "import numpy as np\n",
    "import pandas as pd"
   ]
  },
  {
   "cell_type": "code",
   "execution_count": null,
   "metadata": {},
   "outputs": [],
   "source": [
    "from pathlib import Path\n",
    "images = Path(\"Celeb_Photos\").glob(\"*.jpg\")\n",
    "actors = [str(p) for p in images]\n",
    "data = list()\n"
   ]
  },
  {
   "cell_type": "code",
   "execution_count": null,
   "metadata": {},
   "outputs": [],
   "source": [
    "def Sentiment_classifier(n,img):\n",
    "    classifier =load_model('Emotion_little_vgg.h5')\n",
    "    \n",
    "    class_labels = ['Angry','Happy','Neutral','Sad','Surprise']\n",
    "    \n",
    "    face_cascade = cv2.CascadeClassifier('haarcascade_frontalface_default.xml')\n",
    "    # Read the input image\n",
    "    \n",
    "    # Convert into grayscale\n",
    "    gray = cv2.cvtColor(img, cv2.COLOR_BGR2GRAY)\n",
    "    # Detect faces\n",
    "    faces = face_cascade.detectMultiScale(gray, 1.1, 4)\n",
    "    # Draw rectangle around the faces\n",
    "    for (x,y,w,h) in faces:\n",
    "            roi_gray = gray[y:y+h,x:x+w]\n",
    "            roi_gray = cv2.resize(roi_gray,(48,48),interpolation=cv2.INTER_AREA)\n",
    "    # Display the output\n",
    "    try:\n",
    "        if np.sum([roi_gray])!=0:\n",
    "            roi = roi_gray.astype('float')/255.0\n",
    "            roi = img_to_array(roi)\n",
    "            roi = np.expand_dims(roi,axis=0)\n",
    "        else:\n",
    "            return(\"No face found\")\n",
    "        preds = classifier.predict(roi)[0]\n",
    "        label=class_labels[preds.argmax()]\n",
    "        return label\n",
    "    except:\n",
    "        return(\"No face found\")\n",
    "        "
   ]
  },
  {
   "cell_type": "code",
   "execution_count": null,
   "metadata": {},
   "outputs": [],
   "source": [
    "\n",
    "def Setiment_to_csv():\n",
    "    for n in actors:\n",
    "        img = cv2.imread(n)\n",
    "        sentiment = Sentiment_classifier(n,img)\n",
    "        data.append([n,sentiment])\n",
    "    for n in data:\n",
    "        n[0]=n[0][13:-4]\n",
    "    df1 =pd.DataFrame(data,columns = ['Actor Name', 'Sentiment'])\n",
    "    df1.to_csv('Actor_Image_Sentiment.csv')"
   ]
  },
  {
   "cell_type": "code",
   "execution_count": null,
   "metadata": {},
   "outputs": [],
   "source": [
    "if __name__ == \"__main__\":\n",
    "    Setiment_to_csv()"
   ]
  }
 ],
 "metadata": {
  "kernelspec": {
   "display_name": "Python 3",
   "language": "python",
   "name": "python3"
  },
  "language_info": {
   "codemirror_mode": {
    "name": "ipython",
    "version": 3
   },
   "file_extension": ".py",
   "mimetype": "text/x-python",
   "name": "python",
   "nbconvert_exporter": "python",
   "pygments_lexer": "ipython3",
   "version": "3.7.3"
  }
 },
 "nbformat": 4,
 "nbformat_minor": 2
}
